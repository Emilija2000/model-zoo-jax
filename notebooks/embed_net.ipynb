{
 "cells": [
  {
   "cell_type": "code",
   "execution_count": 1,
   "metadata": {},
   "outputs": [],
   "source": [
    "# From Neel's code\n",
    "import os\n",
    "from pathlib import Path\n",
    "from typing import Callable\n",
    "import json\n",
    "import functools\n",
    "import math\n",
    "\n",
    "\n",
    "import jax\n",
    "import jax.numpy as jnp\n",
    "from jax import random, nn\n",
    "\n",
    "from optax import adam, rmsprop, sgd\n",
    "\n",
    "import haiku as hk\n",
    "from haiku.initializers import Initializer, Constant, RandomNormal, TruncatedNormal, VarianceScaling\n",
    "\n",
    "\n",
    "def ctc_net_fn(x: jnp.ndarray,\n",
    "               n_classes: int,\n",
    "               n_conv_layers: int = 3,\n",
    "               kernel_size: tuple = (3, 3),\n",
    "               n_filters: int = 32,\n",
    "               n_fc_layers: int = 3,\n",
    "               fc_width: int = 128,\n",
    "               activation: Callable = nn.relu,\n",
    "               w_init: Initializer = TruncatedNormal()) -> jnp.ndarray:  # TODO: Batchnorm?\n",
    "    convs = [hk.Conv2D(output_channels=n_filters, kernel_shape=kernel_size, padding=\"SAME\", w_init=w_init)\n",
    "             for _ in range(n_conv_layers)]\n",
    "    fcs = [hk.Linear(fc_width, w_init=w_init) for _ in range(n_fc_layers - 1)]\n",
    "\n",
    "    seq = []\n",
    "    for conv in convs:\n",
    "        seq.append(conv)\n",
    "        seq.append(activation)\n",
    "    seq.append(hk.Flatten())\n",
    "    for fc in fcs:\n",
    "        seq.append(fc)\n",
    "        seq.append(activation)\n",
    "    seq.append(hk.Linear(n_classes, w_init=w_init))\n",
    "\n",
    "    net = hk.Sequential(seq)\n",
    "    return net(x)\n",
    "\n",
    "\n",
    "key = random.PRNGKey(4)"
   ]
  },
  {
   "cell_type": "code",
   "execution_count": 2,
   "metadata": {},
   "outputs": [
    {
     "name": "stderr",
     "output_type": "stream",
     "text": [
      "/home/lauro/.virtualenvs/meta-models/lib/python3.8/site-packages/tqdm/auto.py:21: TqdmWarning: IProgress not found. Please update jupyter and ipywidgets. See https://ipywidgets.readthedocs.io/en/stable/user_install.html\n",
      "  from .autonotebook import tqdm as notebook_tqdm\n"
     ]
    }
   ],
   "source": [
    "import dataclasses\n",
    "from meta_transformer import utils\n",
    "from jax import vmap\n",
    "from meta_transformer.transformer import Transformer\n",
    "from meta_transformer.meta_model import MetaModelClassifier"
   ]
  },
  {
   "cell_type": "code",
   "execution_count": 10,
   "metadata": {},
   "outputs": [
    {
     "data": {
      "text/plain": [
       "{'conv2_d': {'b': (32,), 'w': (3, 3, 1, 32)},\n",
       " 'conv2_d_1': {'b': (32,), 'w': (3, 3, 32, 32)},\n",
       " 'conv2_d_2': {'b': (32,), 'w': (3, 3, 32, 32)},\n",
       " 'linear': {'b': (128,), 'w': (32768, 128)},\n",
       " 'linear_1': {'b': (128,), 'w': (128, 128)},\n",
       " 'linear_2': {'b': (10,), 'w': (128, 10)}}"
      ]
     },
     "execution_count": 10,
     "metadata": {},
     "output_type": "execute_result"
    }
   ],
   "source": [
    "net = hk.without_apply_rng(hk.transform(ctc_net_fn))\n",
    "key, subkey = random.split(key)\n",
    "params = net.init(subkey, jnp.ones((1, 32, 32, 1)), 10)\n",
    "jax.tree_util.tree_map(lambda x: x.shape, params)"
   ]
  },
  {
   "cell_type": "code",
   "execution_count": 11,
   "metadata": {},
   "outputs": [
    {
     "data": {
      "text/plain": [
       "{'conv2_d': {'b': 32, 'w': 288},\n",
       " 'conv2_d_1': {'b': 32, 'w': 9216},\n",
       " 'conv2_d_2': {'b': 32, 'w': 9216},\n",
       " 'linear': {'b': 128, 'w': 4194304},\n",
       " 'linear_1': {'b': 128, 'w': 16384},\n",
       " 'linear_2': {'b': 10, 'w': 1280}}"
      ]
     },
     "execution_count": 11,
     "metadata": {},
     "output_type": "execute_result"
    }
   ],
   "source": [
    "jax.tree_util.tree_map(lambda x: x.size, params)"
   ]
  },
  {
   "cell_type": "code",
   "execution_count": 6,
   "metadata": {},
   "outputs": [
    {
     "data": {
      "text/plain": [
       "4.23105"
      ]
     },
     "execution_count": 6,
     "metadata": {},
     "output_type": "execute_result"
    }
   ],
   "source": [
    "utils.count_params(params) / 1e6"
   ]
  },
  {
   "cell_type": "code",
   "execution_count": 7,
   "metadata": {},
   "outputs": [
    {
     "data": {
      "text/plain": [
       "{'conv2_d': {'b': (2, 32), 'w': (2, 3, 3, 1, 32)},\n",
       " 'conv2_d_1': {'b': (2, 32), 'w': (2, 3, 3, 32, 32)},\n",
       " 'conv2_d_2': {'b': (2, 32), 'w': (2, 3, 3, 32, 32)},\n",
       " 'linear': {'b': (2, 128), 'w': (2, 32768, 128)},\n",
       " 'linear_1': {'b': (2, 128), 'w': (2, 128, 128)},\n",
       " 'linear_2': {'b': (2, 10), 'w': (2, 128, 10)}}"
      ]
     },
     "execution_count": 7,
     "metadata": {},
     "output_type": "execute_result"
    }
   ],
   "source": [
    "stacked = utils.tree_stack([params, params])\n",
    "jax.tree_map(lambda x: x.shape, stacked)"
   ]
  },
  {
   "cell_type": "code",
   "execution_count": 8,
   "metadata": {},
   "outputs": [],
   "source": [
    "def model_fn(params: dict):\n",
    "    net = MetaModelClassifier(\n",
    "        model_size=4*32, \n",
    "        num_classes=10, \n",
    "        transformer=Transformer(\n",
    "            num_heads=4,\n",
    "            num_layers=2,\n",
    "            key_size=32,\n",
    "            dropout_rate=0.1,\n",
    "        ))\n",
    "    return net(params)\n",
    "\n",
    "\n",
    "model = hk.transform(model_fn)\n",
    "    \n",
    "key, subkey = random.split(key)\n",
    "meta_params = jax.jit(model.init)(subkey, stacked)\n",
    "model_forward = jax.jit(model.apply)\n",
    "key, subkey = random.split(key)\n",
    "out = model_forward(meta_params, subkey, stacked)"
   ]
  },
  {
   "cell_type": "code",
   "execution_count": 12,
   "metadata": {},
   "outputs": [
    {
     "data": {
      "text/plain": [
       "(2, 4211, 10)"
      ]
     },
     "execution_count": 12,
     "metadata": {},
     "output_type": "execute_result"
    }
   ],
   "source": [
    "out.shape"
   ]
  }
 ],
 "metadata": {
  "kernelspec": {
   "display_name": "meta-models",
   "language": "python",
   "name": "python3"
  },
  "language_info": {
   "codemirror_mode": {
    "name": "ipython",
    "version": 3
   },
   "file_extension": ".py",
   "mimetype": "text/x-python",
   "name": "python",
   "nbconvert_exporter": "python",
   "pygments_lexer": "ipython3",
   "version": "3.8.10"
  },
  "orig_nbformat": 4
 },
 "nbformat": 4,
 "nbformat_minor": 2
}
