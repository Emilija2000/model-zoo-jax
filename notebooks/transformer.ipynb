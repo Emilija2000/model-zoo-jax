{
 "cells": [
  {
   "cell_type": "code",
   "execution_count": 2,
   "metadata": {},
   "outputs": [
    {
     "name": "stderr",
     "output_type": "stream",
     "text": [
      "/home/lauro/.virtualenvs/meta-models/lib/python3.8/site-packages/tqdm/auto.py:21: TqdmWarning: IProgress not found. Please update jupyter and ipywidgets. See https://ipywidgets.readthedocs.io/en/stable/user_install.html\n",
      "  from .autonotebook import tqdm as notebook_tqdm\n"
     ]
    }
   ],
   "source": [
    "from meta_transformer import transformer\n",
    "import jax\n",
    "from jax import random, vmap, grad, jit, value_and_grad\n",
    "import jax.numpy as jnp\n",
    "import haiku as hk\n",
    "from jax import nn\n",
    "from meta_transformer.mnist import mnist\n",
    "from meta_transformer import utils\n",
    "import optax\n",
    "import numpy as np\n",
    "import matplotlib.pyplot as plt\n",
    "import time\n",
    "from functools import partial\n",
    "import datasets\n",
    "\n",
    "\n",
    "rng = random.PRNGKey(42)\n",
    "\n",
    "\n",
    "def forward(input_chunks, is_training=True):\n",
    "    t = transformer.Classifier(\n",
    "        transformer=transformer.Transformer(\n",
    "            num_heads=3,\n",
    "            num_layers=2,\n",
    "            key_size=32,\n",
    "            dropout_rate=0.1,\n",
    "        ),\n",
    "        model_size=128,\n",
    "        num_classes=10,\n",
    "    )\n",
    "    return t(input_chunks, is_training=is_training)\n",
    "\n",
    "\n",
    "model = hk.transform(forward)\n",
    "\n",
    "\n",
    "def loss(params, rng, input_chunks, targets, is_training=True):\n",
    "    logits = model.apply(params, rng, input_chunks, is_training)[:, 0, :]  # [B, C]\n",
    "    assert logits.shape == targets.shape\n",
    "    return -jnp.sum(targets * nn.log_softmax(logits, axis=-1), axis=-1).mean()"
   ]
  },
  {
   "attachments": {},
   "cell_type": "markdown",
   "metadata": {},
   "source": [
    "# Training CIFAR-10"
   ]
  },
  {
   "cell_type": "code",
   "execution_count": 29,
   "metadata": {},
   "outputs": [
    {
     "name": "stderr",
     "output_type": "stream",
     "text": [
      "Found cached dataset cifar10 (/home/lauro/.cache/huggingface/datasets/cifar10/plain_text/1.0.0/447d6ec4733dddd1ce3bb577c7166b986eaa4c538dcd9e805ba61f35674a9de4)\n",
      "100%|██████████| 2/2 [00:00<00:00, 824.68it/s]\n"
     ]
    }
   ],
   "source": [
    "dataset = datasets.load_dataset('cifar10')\n",
    "dataset = dataset.with_format(\"jax\")\n",
    "# Split the dataset into train and test sets\n",
    "train_dataset = dataset['train']\n",
    "test_dataset = dataset['test']"
   ]
  },
  {
   "cell_type": "code",
   "execution_count": 31,
   "metadata": {},
   "outputs": [
    {
     "name": "stderr",
     "output_type": "stream",
     "text": [
      "Found cached dataset cifar10 (/home/lauro/.cache/huggingface/datasets/cifar10/plain_text/1.0.0/447d6ec4733dddd1ce3bb577c7166b986eaa4c538dcd9e805ba61f35674a9de4)\n",
      "100%|██████████| 2/2 [00:00<00:00, 871.72it/s]\n"
     ]
    }
   ],
   "source": [
    "import datasets\n",
    "\n",
    "def load_cifar10():\n",
    "    # Load the CIFAR-10 dataset using Hugging Face Datasets\n",
    "    dataset = datasets.load_dataset('cifar10')\n",
    "    dataset = dataset.with_format(\"jax\")\n",
    "\n",
    "    # Split the dataset into train and test sets\n",
    "    train_dataset = dataset['train']\n",
    "    test_dataset = dataset['test']\n",
    "    \n",
    "    # Convert images to float32 and normalize pixel values to the range [0, 1]\n",
    "    train_images = jnp.array(train_dataset['img'], dtype=jnp.float32) / 255.0\n",
    "    test_images = jnp.array(test_dataset['img'], dtype=jnp.float32) / 255.0\n",
    "    \n",
    "    # One-hot encode labels\n",
    "    train_labels = jnp.eye(10)[train_dataset['label']]\n",
    "    test_labels = jnp.eye(10)[test_dataset['label']]\n",
    "    \n",
    "    return (train_images, train_labels), (test_images, test_labels)\n",
    "\n",
    "(train_images, train_labels), (test_images, test_labels) = load_cifar10()"
   ]
  },
  {
   "cell_type": "code",
   "execution_count": null,
   "metadata": {},
   "outputs": [],
   "source": [
    "BATCH_SIZE = 32\n",
    "SEQ_LEN = 14\n",
    "CHUNK_SIZE = 784 // SEQ_LEN\n",
    "\n",
    "\n",
    "train_data = train_data.reshape(-1, BATCH_SIZE, SEQ_LEN, CHUNK_SIZE)\n",
    "train_labels = train_labels.reshape(-1, BATCH_SIZE, 10)\n",
    "test_data = test_data.reshape(-1, SEQ_LEN, CHUNK_SIZE)\n",
    "test_labels = test_labels.reshape(-1, 10)\n",
    "\n",
    "\n",
    "model = hk.transform(forward)\n",
    "chunks = train_data[0]\n",
    "params = model.init(rng, chunks)\n",
    "\n",
    "# # Test\n",
    "# print(model.apply(params, rng, chunks).shape)\n",
    "# loss(params, rng, chunks, train_labels[0])\n",
    "sum([x.size for x in jax.tree_util.tree_leaves(params)]) / 1e6\n",
    "# training loop\n",
    "opt = optax.adam(1e-3)\n",
    "opt_state = opt.init(params)\n",
    "@jit\n",
    "def update_fn(params, opt_state, rng, batch):\n",
    "    inputs, labels = batch\n",
    "    l, g = value_and_grad(loss)(params, rng, inputs, labels)\n",
    "    updates, opt_state = opt.update(g, opt_state)\n",
    "    params = optax.apply_updates(params, updates)\n",
    "    return params, opt_state, l\n",
    "\n",
    "\n",
    "@partial(jit, static_argnums=4)\n",
    "def accuracy(params, rng, inputs, one_hot_targets, is_training=True):\n",
    "    logits = model.apply(params, rng, inputs, is_training)[:, 0, :]\n",
    "    predictions = jnp.argmax(logits, axis=-1)\n",
    "    targets = jnp.argmax(one_hot_targets, axis=-1)\n",
    "    return jnp.mean(predictions == targets)\n",
    "\n",
    "\n",
    "def val_accuracy(params, rng):\n",
    "    \"\"\"Compute accuracy on test set.\"\"\"\n",
    "    test_acc = accuracy(params, rng, test_data, test_labels, is_training=False)\n",
    "    return test_acc\n",
    "accuracy(params, rng, train_data[0], train_labels[0])\n",
    "params.keys()\n",
    "info = []\n",
    "step = 0\n",
    "for epoch in range(15):\n",
    "    print(f\"Epoch {epoch}\")\n",
    "    acc = []\n",
    "    losses = []\n",
    "    for batch in zip(train_data, train_labels):\n",
    "        rng, rng_step = random.split(rng)\n",
    "        step += 1\n",
    "        params, opt_state, l = update_fn(params, opt_state, rng_step, batch)\n",
    "        train_acc = accuracy(params, rng_step, *batch)\n",
    "        acc.append(train_acc) \n",
    "        losses.append(l)\n",
    "\n",
    "    info.append(dict(loss=np.mean(losses), epoch=epoch, step=step, train_acc=np.mean(acc), val_acc=val_accuracy(params, rng)))\n",
    "\n",
    "info = utils.dict_concatenate(info)"
   ]
  }
 ],
 "metadata": {
  "kernelspec": {
   "display_name": "meta-models",
   "language": "python",
   "name": "python3"
  },
  "language_info": {
   "codemirror_mode": {
    "name": "ipython",
    "version": 3
   },
   "file_extension": ".py",
   "mimetype": "text/x-python",
   "name": "python",
   "nbconvert_exporter": "python",
   "pygments_lexer": "ipython3",
   "version": "3.8.10"
  },
  "orig_nbformat": 4
 },
 "nbformat": 4,
 "nbformat_minor": 2
}
