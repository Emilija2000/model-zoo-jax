{
 "cells": [
  {
   "cell_type": "code",
   "execution_count": 15,
   "metadata": {},
   "outputs": [],
   "source": [
    "from meta_transformer import transformer\n",
    "import jax\n",
    "from jax import random, vmap, grad, jit, value_and_grad\n",
    "import jax.numpy as jnp\n",
    "import haiku as hk\n",
    "from jax import nn\n",
    "from meta_transformer.mnist import mnist\n",
    "from meta_transformer import utils\n",
    "import optax\n",
    "import numpy as np\n",
    "import matplotlib.pyplot as plt\n",
    "import time\n",
    "from functools import partial\n",
    "import datasets\n",
    "\n",
    "\n",
    "rng = random.PRNGKey(42)\n",
    "\n",
    "\n",
    "def forward(input_chunks, is_training=True):\n",
    "    t = transformer.Classifier(\n",
    "        transformer=transformer.Transformer(\n",
    "            num_heads=3,\n",
    "            num_layers=2,\n",
    "            key_size=32,\n",
    "            dropout_rate=0.1,\n",
    "        ),\n",
    "        model_size=128,\n",
    "        num_classes=10,\n",
    "    )\n",
    "    return t(input_chunks, is_training=is_training)\n",
    "\n",
    "\n",
    "model = hk.transform(forward)\n",
    "\n",
    "\n",
    "def loss(params, rng, input_chunks, targets, is_training=True):\n",
    "    logits = model.apply(params, rng, input_chunks, is_training)[:, 0, :]  # [B, C]\n",
    "    assert logits.shape == targets.shape\n",
    "    return -jnp.sum(targets * nn.log_softmax(logits, axis=-1), axis=-1).mean()\n",
    "\n",
    "\n",
    "# # Test\n",
    "# chunks = random.normal(rng, (5, 30, 512))\n",
    "# params = model.init(rng, chunks)\n",
    "# model.apply(params, rng, chunks).shape\n",
    "# loss(params, rng, chunks, jnp.array([1, 2, 3, 4, 5]))"
   ]
  },
  {
   "cell_type": "code",
   "execution_count": 2,
   "metadata": {},
   "outputs": [],
   "source": [
    "# Test on MNIST\n",
    "train_data, train_labels, test_data, test_labels = mnist()"
   ]
  },
  {
   "cell_type": "code",
   "execution_count": 3,
   "metadata": {},
   "outputs": [
    {
     "data": {
      "text/plain": [
       "(60000, 10)"
      ]
     },
     "execution_count": 3,
     "metadata": {},
     "output_type": "execute_result"
    }
   ],
   "source": [
    "train_labels.shape"
   ]
  },
  {
   "cell_type": "code",
   "execution_count": 4,
   "metadata": {},
   "outputs": [],
   "source": [
    "# split train_data into batches\n",
    "BATCH_SIZE = 32\n",
    "SEQ_LEN = 14\n",
    "CHUNK_SIZE = 784 // SEQ_LEN\n",
    "\n",
    "\n",
    "train_data = train_data.reshape(-1, BATCH_SIZE, SEQ_LEN, CHUNK_SIZE)\n",
    "train_labels = train_labels.reshape(-1, BATCH_SIZE, 10)\n",
    "test_data = test_data.reshape(-1, SEQ_LEN, CHUNK_SIZE)\n",
    "test_labels = test_labels.reshape(-1, 10)\n",
    "\n",
    "\n",
    "model = hk.transform(forward)\n",
    "chunks = train_data[0]\n",
    "params = model.init(rng, chunks)\n",
    "\n",
    "# # Test\n",
    "# print(model.apply(params, rng, chunks).shape)\n",
    "# loss(params, rng, chunks, train_labels[0])"
   ]
  },
  {
   "cell_type": "code",
   "execution_count": 5,
   "metadata": {},
   "outputs": [
    {
     "data": {
      "text/plain": [
       "0.374218"
      ]
     },
     "execution_count": 5,
     "metadata": {},
     "output_type": "execute_result"
    }
   ],
   "source": [
    "sum([x.size for x in jax.tree_util.tree_leaves(params)]) / 1e6"
   ]
  },
  {
   "cell_type": "code",
   "execution_count": 6,
   "metadata": {},
   "outputs": [],
   "source": [
    "# training loop\n",
    "opt = optax.adam(1e-3)\n",
    "opt_state = opt.init(params)"
   ]
  },
  {
   "cell_type": "code",
   "execution_count": 7,
   "metadata": {},
   "outputs": [],
   "source": [
    "@jit\n",
    "def update_fn(params, opt_state, rng, batch):\n",
    "    inputs, labels = batch\n",
    "    l, g = value_and_grad(loss)(params, rng, inputs, labels)\n",
    "    updates, opt_state = opt.update(g, opt_state)\n",
    "    params = optax.apply_updates(params, updates)\n",
    "    return params, opt_state, l\n",
    "\n",
    "\n",
    "@partial(jit, static_argnums=4)\n",
    "def accuracy(params, rng, inputs, one_hot_targets, is_training=True):\n",
    "    logits = model.apply(params, rng, inputs, is_training)[:, 0, :]\n",
    "    predictions = jnp.argmax(logits, axis=-1)\n",
    "    targets = jnp.argmax(one_hot_targets, axis=-1)\n",
    "    return jnp.mean(predictions == targets)\n",
    "\n",
    "\n",
    "def val_accuracy(params, rng):\n",
    "    \"\"\"Compute accuracy on test set.\"\"\"\n",
    "    test_acc = accuracy(params, rng, test_data, test_labels, is_training=False)\n",
    "    return test_acc"
   ]
  },
  {
   "cell_type": "code",
   "execution_count": 8,
   "metadata": {},
   "outputs": [
    {
     "data": {
      "text/plain": [
       "Array(0.09375, dtype=float32)"
      ]
     },
     "execution_count": 8,
     "metadata": {},
     "output_type": "execute_result"
    }
   ],
   "source": [
    "accuracy(params, rng, train_data[0], train_labels[0])"
   ]
  },
  {
   "cell_type": "code",
   "execution_count": 13,
   "metadata": {},
   "outputs": [
    {
     "data": {
      "text/plain": [
       "dict_keys(['classifier', 'classifier/linear', 'classifier/linear_1', 'transformer/layer_norm', 'transformer/layer_norm_1', 'transformer/layer_norm_2', 'transformer/layer_norm_3', 'transformer/layer_norm_4', 'transformer/linear', 'transformer/linear_1', 'transformer/linear_2', 'transformer/linear_3', 'transformer/multi_head_attention/key', 'transformer/multi_head_attention/linear', 'transformer/multi_head_attention/query', 'transformer/multi_head_attention/value', 'transformer/multi_head_attention_1/key', 'transformer/multi_head_attention_1/linear', 'transformer/multi_head_attention_1/query', 'transformer/multi_head_attention_1/value'])"
      ]
     },
     "execution_count": 13,
     "metadata": {},
     "output_type": "execute_result"
    }
   ],
   "source": [
    "params.keys()"
   ]
  },
  {
   "cell_type": "code",
   "execution_count": 9,
   "metadata": {},
   "outputs": [
    {
     "name": "stdout",
     "output_type": "stream",
     "text": [
      "Epoch 0\n",
      "Epoch 1\n",
      "Epoch 2\n",
      "Epoch 3\n",
      "Epoch 4\n",
      "Epoch 5\n",
      "Epoch 6\n",
      "Epoch 7\n",
      "Epoch 8\n",
      "Epoch 9\n",
      "Epoch 10\n",
      "Epoch 11\n",
      "Epoch 12\n",
      "Epoch 13\n",
      "Epoch 14\n"
     ]
    }
   ],
   "source": [
    "info = []\n",
    "step = 0\n",
    "for epoch in range(15):\n",
    "    print(f\"Epoch {epoch}\")\n",
    "    acc = []\n",
    "    losses = []\n",
    "    for batch in zip(train_data, train_labels):\n",
    "        rng, rng_step = random.split(rng)\n",
    "        step += 1\n",
    "        params, opt_state, l = update_fn(params, opt_state, rng_step, batch)\n",
    "        train_acc = accuracy(params, rng_step, *batch)\n",
    "        acc.append(train_acc) \n",
    "        losses.append(l)\n",
    "\n",
    "    info.append(dict(loss=np.mean(losses), epoch=epoch, step=step, train_acc=np.mean(acc), val_acc=val_accuracy(params, rng)))\n",
    "\n",
    "info = utils.dict_concatenate(info)"
   ]
  },
  {
   "cell_type": "code",
   "execution_count": 10,
   "metadata": {},
   "outputs": [
    {
     "data": {
      "text/plain": [
       "<matplotlib.legend.Legend at 0x7f48c85a8a30>"
      ]
     },
     "execution_count": 10,
     "metadata": {},
     "output_type": "execute_result"
    },
    {
     "data": {
      "image/png": "[encoded data removed]",
      "text/plain": [
       "<Figure size 640x480 with 1 Axes>"
      ]
     },
     "metadata": {},
     "output_type": "display_data"
    }
   ],
   "source": [
    "plt.plot([i[\"step\"] for i in info], [i['train_acc'] for i in info], label=\"train\")\n",
    "plt.plot([i[\"step\"] for i in info], [i['val_acc'] for i in info], label=\"val\")\n",
    "plt.ylabel(\"Training Accuracy\")\n",
    "plt.xlabel(\"Step\")\n",
    "plt.legend()"
   ]
  },
  {
   "cell_type": "code",
   "execution_count": 11,
   "metadata": {},
   "outputs": [
    {
     "data": {
      "image/png": "[encoded data removed]",
      "text/plain": [
       "<Figure size 640x480 with 1 Axes>"
      ]
     },
     "metadata": {},
     "output_type": "display_data"
    }
   ],
   "source": [
    "plt.plot([i[\"step\"] for i in info], [i['loss'] for i in info])\n",
    "plt.ylabel(\"Training Loss\")\n",
    "plt.xlabel(\"Step\")\n",
    "plt.yscale(\"log\")\n"
   ]
  },
  {
   "attachments": {},
   "cell_type": "markdown",
   "metadata": {},
   "source": [
    "# CIFAR-10"
   ]
  },
  {
   "cell_type": "code",
   "execution_count": 29,
   "metadata": {},
   "outputs": [
    {
     "name": "stderr",
     "output_type": "stream",
     "text": [
      "Found cached dataset cifar10 (/home/lauro/.cache/huggingface/datasets/cifar10/plain_text/1.0.0/447d6ec4733dddd1ce3bb577c7166b986eaa4c538dcd9e805ba61f35674a9de4)\n",
      "100%|██████████| 2/2 [00:00<00:00, 824.68it/s]\n"
     ]
    }
   ],
   "source": [
    "dataset = datasets.load_dataset('cifar10')\n",
    "dataset = dataset.with_format(\"jax\")\n",
    "# Split the dataset into train and test sets\n",
    "train_dataset = dataset['train']\n",
    "test_dataset = dataset['test']"
   ]
  },
  {
   "cell_type": "code",
   "execution_count": 31,
   "metadata": {},
   "outputs": [
    {
     "name": "stderr",
     "output_type": "stream",
     "text": [
      "Found cached dataset cifar10 (/home/lauro/.cache/huggingface/datasets/cifar10/plain_text/1.0.0/447d6ec4733dddd1ce3bb577c7166b986eaa4c538dcd9e805ba61f35674a9de4)\n",
      "100%|██████████| 2/2 [00:00<00:00, 871.72it/s]\n"
     ]
    }
   ],
   "source": [
    "import datasets\n",
    "\n",
    "def load_cifar10():\n",
    "    # Load the CIFAR-10 dataset using Hugging Face Datasets\n",
    "    dataset = datasets.load_dataset('cifar10')\n",
    "    dataset = dataset.with_format(\"jax\")\n",
    "\n",
    "    # Split the dataset into train and test sets\n",
    "    train_dataset = dataset['train']\n",
    "    test_dataset = dataset['test']\n",
    "    \n",
    "    # Convert images to float32 and normalize pixel values to the range [0, 1]\n",
    "    train_images = jnp.array(train_dataset['img'], dtype=jnp.float32) / 255.0\n",
    "    test_images = jnp.array(test_dataset['img'], dtype=jnp.float32) / 255.0\n",
    "    \n",
    "    # One-hot encode labels\n",
    "    train_labels = jnp.eye(10)[train_dataset['label']]\n",
    "    test_labels = jnp.eye(10)[test_dataset['label']]\n",
    "    \n",
    "    return (train_images, train_labels), (test_images, test_labels)\n",
    "\n",
    "(train_images, train_labels), (test_images, test_labels) = load_cifar10()"
   ]
  },
  {
   "cell_type": "code",
   "execution_count": 33,
   "metadata": {},
   "outputs": [
    {
     "data": {
      "text/plain": [
       "(50000, 10)"
      ]
     },
     "execution_count": 33,
     "metadata": {},
     "output_type": "execute_result"
    }
   ],
   "source": [
    "train_images.shape\n",
    "train_labels.shape"
   ]
  },
  {
   "cell_type": "code",
   "execution_count": null,
   "metadata": {},
   "outputs": [],
   "source": []
  }
 ],
 "metadata": {
  "kernelspec": {
   "display_name": "meta-models",
   "language": "python",
   "name": "python3"
  },
  "language_info": {
   "codemirror_mode": {
    "name": "ipython",
    "version": 3
   },
   "file_extension": ".py",
   "mimetype": "text/x-python",
   "name": "python",
   "nbconvert_exporter": "python",
   "pygments_lexer": "ipython3",
   "version": "3.8.10"
  },
  "orig_nbformat": 4
 },
 "nbformat": 4,
 "nbformat_minor": 2
}
