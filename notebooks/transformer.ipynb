{
 "cells": [
  {
   "cell_type": "code",
   "execution_count": 2,
   "metadata": {},
   "outputs": [
    {
     "name": "stderr",
     "output_type": "stream",
     "text": [
      "/home/lauro/.virtualenvs/meta-models/lib/python3.8/site-packages/tqdm/auto.py:21: TqdmWarning: IProgress not found. Please update jupyter and ipywidgets. See https://ipywidgets.readthedocs.io/en/stable/user_install.html\n",
      "  from .autonotebook import tqdm as notebook_tqdm\n"
     ]
    }
   ],
   "source": [
    "from meta_transformer import transformer\n",
    "import jax\n",
    "from jax import random, vmap, grad, jit, value_and_grad\n",
    "import jax.numpy as jnp\n",
    "import haiku as hk\n",
    "from jax import nn\n",
    "from meta_transformer.mnist import mnist\n",
    "from meta_transformer import utils\n",
    "import optax\n",
    "import numpy as np\n",
    "import matplotlib.pyplot as plt\n",
    "import time\n",
    "from functools import partial\n",
    "import datasets\n",
    "\n",
    "\n",
    "rng = random.PRNGKey(42)\n",
    "\n",
    "\n",
    "def forward(input_chunks, is_training=True):\n",
    "    t = transformer.Classifier(\n",
    "        transformer=transformer.Transformer(\n",
    "            num_heads=3,\n",
    "            num_layers=2,\n",
    "            key_size=32,\n",
    "            dropout_rate=0.1,\n",
    "        ),\n",
    "        model_size=128,\n",
    "        num_classes=10,\n",
    "    )\n",
    "    return t(input_chunks, is_training=is_training)\n",
    "\n",
    "\n",
    "model = hk.transform(forward)\n",
    "\n",
    "\n",
    "def loss(params, rng, input_chunks, targets, is_training=True):\n",
    "    logits = model.apply(params, rng, input_chunks, is_training)[:, 0, :]  # [B, C]\n",
    "    assert logits.shape == targets.shape\n",
    "    return -jnp.sum(targets * nn.log_softmax(logits, axis=-1), axis=-1).mean()"
   ]
  },
  {
   "attachments": {},
   "cell_type": "markdown",
   "metadata": {},
   "source": [
    "# Training CIFAR-10"
   ]
  },
  {
   "cell_type": "code",
   "execution_count": 21,
   "metadata": {},
   "outputs": [
    {
     "name": "stderr",
     "output_type": "stream",
     "text": [
      "Found cached dataset cifar10 (/home/lauro/.cache/huggingface/datasets/cifar10/plain_text/1.0.0/447d6ec4733dddd1ce3bb577c7166b986eaa4c538dcd9e805ba61f35674a9de4)\n",
      "100%|██████████| 2/2 [00:00<00:00, 896.03it/s]\n"
     ]
    }
   ],
   "source": [
    "def load_cifar10():\n",
    "    # Load the CIFAR-10 dataset using Hugging Face Datasets\n",
    "    dataset = datasets.load_dataset('cifar10')\n",
    "    dataset = dataset.with_format(\"jax\")\n",
    "\n",
    "    # Split the dataset into train and test sets\n",
    "    train_dataset = dataset['train']\n",
    "    test_dataset = dataset['test']\n",
    "    \n",
    "    # Normalize pixel values to the range [0, 1]\n",
    "    train_images = train_dataset['img'] / 255.0\n",
    "    test_images = test_dataset['img'] / 255.0  # TODO is there a better way to do this with huggingface datasets?\n",
    "\n",
    "\n",
    "    # Reshape images to vectors\n",
    "    train_images = train_images.reshape(-1, 32 * 32 * 3)\n",
    "    test_images = test_images.reshape(-1, 32 * 32 * 3)\n",
    "    \n",
    "    # One-hot encode labels\n",
    "    train_labels = jnp.eye(10)[train_dataset['label']]\n",
    "    test_labels = jnp.eye(10)[test_dataset['label']]\n",
    "    \n",
    "    return (train_images, train_labels), (test_images, test_labels)\n",
    "\n",
    "(train_data, train_labels), (test_data, test_labels) = load_cifar10()"
   ]
  },
  {
   "cell_type": "code",
   "execution_count": 19,
   "metadata": {},
   "outputs": [
    {
     "data": {
      "text/plain": [
       "((50000, 3072), (50000, 10), (10000, 3072), (10000, 10))"
      ]
     },
     "execution_count": 19,
     "metadata": {},
     "output_type": "execute_result"
    }
   ],
   "source": [
    "train_data.shape, train_labels.shape, test_data.shape, test_labels.shape"
   ]
  },
  {
   "cell_type": "code",
   "execution_count": 24,
   "metadata": {},
   "outputs": [],
   "source": [
    "BATCH_SIZE = 50\n",
    "SEQ_LEN = 16\n",
    "CHUNK_SIZE = train_data.shape[-1] // SEQ_LEN\n",
    "\n",
    "\n",
    "# Chunk and batch data\n",
    "train_data = train_data.reshape(-1, BATCH_SIZE, SEQ_LEN, CHUNK_SIZE)\n",
    "train_labels = train_labels.reshape(-1, BATCH_SIZE, 10)\n",
    "test_data = test_data.reshape(-1, SEQ_LEN, CHUNK_SIZE)\n",
    "test_labels = test_labels.reshape(-1, 10)"
   ]
  },
  {
   "cell_type": "code",
   "execution_count": 50,
   "metadata": {},
   "outputs": [],
   "source": [
    "# Optimizer and update function\n",
    "opt = optax.adamw(1e-3, weight_decay=1e-3)\n",
    "\n",
    "\n",
    "@jit\n",
    "def update_fn(params, opt_state, rng, batch):\n",
    "    inputs, labels = batch\n",
    "    l, g = value_and_grad(loss)(params, rng, inputs, labels)\n",
    "    updates, opt_state = opt.update(g, opt_state, params)\n",
    "    params = optax.apply_updates(params, updates)\n",
    "    return params, opt_state, l\n",
    "\n",
    "\n",
    "@partial(jit, static_argnums=4)\n",
    "def accuracy(params, rng, inputs, one_hot_targets, is_training=True):\n",
    "    logits = model.apply(params, rng, inputs, is_training)[:, 0, :]\n",
    "    predictions = jnp.argmax(logits, axis=-1)\n",
    "    targets = jnp.argmax(one_hot_targets, axis=-1)\n",
    "    return jnp.mean(predictions == targets)\n",
    "\n",
    "\n",
    "@jit\n",
    "def val_accuracy(params, rng):\n",
    "    \"\"\"Compute accuracy on test set.\"\"\"\n",
    "    test_acc = accuracy(params, rng, test_data, test_labels, is_training=False)\n",
    "    return test_acc"
   ]
  },
  {
   "cell_type": "code",
   "execution_count": 51,
   "metadata": {},
   "outputs": [],
   "source": [
    "def train_cifar(rng_key=random.PRNGKey(42), epochs = 10):\n",
    "    subkey, rng_key = random.split(rng_key)\n",
    "    params = model.init(subkey, train_data[0])\n",
    "    opt_state = opt.init(params)\n",
    "    print(\"Number of parameters:\", sum([x.size for x in jax.tree_util.tree_leaves(params)]) / 1e6, \"Million\")\n",
    "\n",
    "    info = []\n",
    "    step = 0\n",
    "    for epoch in range(epochs):\n",
    "        print(f\"Epoch {epoch}\")\n",
    "        acc = []\n",
    "        losses = []\n",
    "        for batch in zip(train_data, train_labels):\n",
    "            subkey0, subkey1, rng_key = random.split(rng_key, 3)\n",
    "            step += 1\n",
    "            params, opt_state, l = update_fn(params, opt_state, subkey0, batch)\n",
    "            train_acc = accuracy(params, subkey1, *batch)\n",
    "            acc.append(train_acc) \n",
    "            losses.append(l)\n",
    "\n",
    "        subkey, rng_key = random.split(rng_key)\n",
    "        info.append(dict(loss=np.mean(losses), epoch=epoch, step=step, train_acc=np.mean(acc), val_acc=val_accuracy(params, subkey)))\n",
    "\n",
    "    info = utils.dict_concatenate(info)\n",
    "    return info, model, params"
   ]
  },
  {
   "cell_type": "code",
   "execution_count": 52,
   "metadata": {},
   "outputs": [
    {
     "name": "stdout",
     "output_type": "stream",
     "text": [
      "Number of parameters: 0.391882 Million\n",
      "Epoch 0\n",
      "Epoch 1\n",
      "Epoch 2\n",
      "Epoch 3\n",
      "Epoch 4\n",
      "Epoch 5\n",
      "Epoch 6\n",
      "Epoch 7\n",
      "Epoch 8\n",
      "Epoch 9\n"
     ]
    }
   ],
   "source": [
    "info, model, params = train_cifar()"
   ]
  },
  {
   "cell_type": "code",
   "execution_count": 53,
   "metadata": {},
   "outputs": [
    {
     "name": "stdout",
     "output_type": "stream",
     "text": [
      "Final training accuracy: 0.6694\n",
      "Final test accuracy: 0.5549\n"
     ]
    }
   ],
   "source": [
    "print(\"Final training accuracy:\", info[\"train_acc\"][-1])\n",
    "print(\"Final test accuracy:\", info[\"val_acc\"][-1])"
   ]
  },
  {
   "cell_type": "code",
   "execution_count": 54,
   "metadata": {},
   "outputs": [
    {
     "data": {
      "image/png": "[encoded data removed]",
      "text/plain": [
       "<Figure size 900x400 with 2 Axes>"
      ]
     },
     "metadata": {},
     "output_type": "display_data"
    }
   ],
   "source": [
    "# Plot\n",
    "fig, axs = plt.subplots(1, 2, figsize=(9, 4))\n",
    "\n",
    "# acc\n",
    "ax = axs[0]\n",
    "ax.plot(info[\"step\"], info[\"train_acc\"], label=\"train\")\n",
    "ax.plot(info[\"step\"], info[\"val_acc\"], label=\"val\")\n",
    "ax.set_ylabel(\"Training Accuracy\")\n",
    "ax.set_xlabel(\"Step\")\n",
    "ax.legend()\n",
    "\n",
    "# loss\n",
    "ax = axs[1]\n",
    "ax.plot(info[\"step\"], info[\"loss\"], label=\"train loss\")\n",
    "ax.set_ylabel(\"Training Loss\")\n",
    "ax.set_xlabel(\"Step\")\n",
    "ax.set_yscale(\"log\")\n",
    "ax.legend()\n",
    "\n",
    "plt.show()"
   ]
  },
  {
   "cell_type": "code",
   "execution_count": null,
   "metadata": {},
   "outputs": [],
   "source": []
  }
 ],
 "metadata": {
  "kernelspec": {
   "display_name": "meta-models",
   "language": "python",
   "name": "python3"
  },
  "language_info": {
   "codemirror_mode": {
    "name": "ipython",
    "version": 3
   },
   "file_extension": ".py",
   "mimetype": "text/x-python",
   "name": "python",
   "nbconvert_exporter": "python",
   "pygments_lexer": "ipython3",
   "version": "3.8.10"
  },
  "orig_nbformat": 4
 },
 "nbformat": 4,
 "nbformat_minor": 2
}
