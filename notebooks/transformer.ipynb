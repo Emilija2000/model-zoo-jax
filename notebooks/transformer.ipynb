{
 "cells": [
  {
   "cell_type": "code",
   "execution_count": 1,
   "metadata": {},
   "outputs": [
    {
     "name": "stderr",
     "output_type": "stream",
     "text": [
      "2023-04-15 15:04:51.963285: E external/org_tensorflow/tensorflow/compiler/xla/stream_executor/cuda/cuda_driver.cc:266] failed call to cuInit: CUDA_ERROR_COMPAT_NOT_SUPPORTED_ON_DEVICE: forward compatibility was attempted on non supported HW\n",
      "2023-04-15 15:04:51.963341: E external/org_tensorflow/tensorflow/compiler/xla/stream_executor/cuda/cuda_diagnostics.cc:312] kernel version 515.86.1 does not match DSO version 515.105.1 -- cannot find working devices in this configuration\n",
      "No GPU/TPU found, falling back to CPU. (Set TF_CPP_MIN_LOG_LEVEL=0 and rerun for more info.)\n"
     ]
    }
   ],
   "source": [
    "from meta_transformer import transformer\n",
    "import jax\n",
    "from jax import random\n",
    "import jax.numpy as jnp\n",
    "import haiku as hk\n",
    "from jax import nn\n",
    "\n",
    "rng = random.PRNGKey(42)"
   ]
  },
  {
   "cell_type": "code",
   "execution_count": 2,
   "metadata": {},
   "outputs": [],
   "source": [
    "def forward(tokens):\n",
    "    t = transformer.Classifier(\n",
    "        transformer=transformer.Transformer(\n",
    "            num_heads=8,\n",
    "            num_layers=6,\n",
    "            key_size=64,\n",
    "            dropout_rate=0.1,\n",
    "        ),\n",
    "        model_size=512,\n",
    "        num_classes=10,\n",
    "    )\n",
    "    return t(tokens, is_training=True)"
   ]
  },
  {
   "cell_type": "code",
   "execution_count": 3,
   "metadata": {},
   "outputs": [],
   "source": [
    "model = hk.transform(forward)\n",
    "chunks = random.normal(rng, (5, 30, 512))\n",
    "params = model.init(rng, chunks)"
   ]
  },
  {
   "cell_type": "code",
   "execution_count": 4,
   "metadata": {},
   "outputs": [
    {
     "data": {
      "text/plain": [
       "(5, 30, 10)"
      ]
     },
     "execution_count": 4,
     "metadata": {},
     "output_type": "execute_result"
    }
   ],
   "source": [
    "model.apply(params, rng, chunks).shape"
   ]
  },
  {
   "cell_type": "code",
   "execution_count": 5,
   "metadata": {},
   "outputs": [],
   "source": [
    "def loss(params, rng, tokens, labels):\n",
    "    targets = jax.nn.one_hot(labels, 10)  # [B, C]\n",
    "    logits = model.apply(params, rng, tokens)[:, 0, :]  # [B, C]\n",
    "    assert logits.shape == targets.shape\n",
    "    return jnp.sum(targets * nn.log_softmax(logits, axis=-1), axis=-1).mean()"
   ]
  },
  {
   "cell_type": "code",
   "execution_count": 6,
   "metadata": {},
   "outputs": [
    {
     "data": {
      "text/plain": [
       "Array(-2.747837, dtype=float32)"
      ]
     },
     "execution_count": 6,
     "metadata": {},
     "output_type": "execute_result"
    }
   ],
   "source": [
    "loss(params, rng, chunks, jnp.array([1, 2, 3, 4, 5]))"
   ]
  },
  {
   "cell_type": "code",
   "execution_count": 7,
   "metadata": {},
   "outputs": [],
   "source": [
    "from meta_transformer.mnist import mnist"
   ]
  },
  {
   "cell_type": "code",
   "execution_count": 17,
   "metadata": {},
   "outputs": [],
   "source": [
    "os.mkdir(\"/home/lauro/mnist-test\")"
   ]
  }
 ],
 "metadata": {
  "kernelspec": {
   "display_name": "meta-models",
   "language": "python",
   "name": "python3"
  },
  "language_info": {
   "codemirror_mode": {
    "name": "ipython",
    "version": 3
   },
   "file_extension": ".py",
   "mimetype": "text/x-python",
   "name": "python",
   "nbconvert_exporter": "python",
   "pygments_lexer": "ipython3",
   "version": "3.8.10"
  },
  "orig_nbformat": 4
 },
 "nbformat": 4,
 "nbformat_minor": 2
}
